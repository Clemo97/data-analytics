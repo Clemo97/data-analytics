{
 "cells": [
  {
   "cell_type": "code",
   "execution_count": 2,
   "metadata": {
    "collapsed": false
   },
   "outputs": [],
   "source": [
    "from csv import reader\n",
    "\n",
    "###Google playstore dataset###\n",
    "opened_file = open('googleplaystore.csv')#open the file\n",
    "read_file = reader(opened_file) #read the file\n",
    "android = list(read_file)#convert it into a list of lists\n",
    "android_header = android[0]#separate the header row\n",
    "android = android[1:]#new list of the rest of the data without header row\n",
    "\n",
    "###Apple store dataset###\n",
    "opened_file = open('AppleStore.csv')#open the apple store file\n",
    "read_file = reader(opened_file) #read the file\n",
    "apple = list(read_file)#convert it into a list of lists\n",
    "apple_header = apple[0]#separeate the header file\n",
    "apple = apple[1:]#new list of the rest of the data without header row\n"
   ]
  },
  {
   "cell_type": "code",
   "execution_count": 3,
   "metadata": {
    "collapsed": false
   },
   "outputs": [
    {
     "name": "stdout",
     "output_type": "stream",
     "text": [
      "['App', 'Category', 'Rating', 'Reviews', 'Size', 'Installs', 'Type', 'Price', 'Content Rating', 'Genres', 'Last Updated', 'Current Ver', 'Android Ver']\n",
      "\n",
      "\n",
      "['Photo Editor & Candy Camera & Grid & ScrapBook', 'ART_AND_DESIGN', '4.1', '159', '19M', '10,000+', 'Free', '0', 'Everyone', 'Art & Design', 'January 7, 2018', '1.0.0', '4.0.3 and up']\n",
      "\n",
      "\n",
      "['Coloring book moana', 'ART_AND_DESIGN', '3.9', '967', '14M', '500,000+', 'Free', '0', 'Everyone', 'Art & Design;Pretend Play', 'January 15, 2018', '2.0.0', '4.0.3 and up']\n",
      "\n",
      "\n",
      "['U Launcher Lite – FREE Live Cool Themes, Hide Apps', 'ART_AND_DESIGN', '4.7', '87510', '8.7M', '5,000,000+', 'Free', '0', 'Everyone', 'Art & Design', 'August 1, 2018', '1.2.4', '4.0.3 and up']\n",
      "\n",
      "\n",
      "Number of rows: 10841\n",
      "Number of columns: 13\n"
     ]
    }
   ],
   "source": [
    "def explore_data(dataset, start, end, rows_and_columns=False):\n",
    "    dataset_slice = dataset[start:end]    \n",
    "    for row in dataset_slice:\n",
    "        print(row)\n",
    "        print('\\n') # adds a new (empty) line between rows\n",
    "        \n",
    "    if rows_and_columns:\n",
    "        print('Number of rows:', len(dataset))\n",
    "        print('Number of columns:', len(dataset[0]))\n",
    "\n",
    "print(android_header)\n",
    "print('\\n')\n",
    "explore_data(android, 0, 3, True)"
   ]
  },
  {
   "cell_type": "code",
   "execution_count": 4,
   "metadata": {
    "collapsed": false,
    "scrolled": true
   },
   "outputs": [
    {
     "name": "stdout",
     "output_type": "stream",
     "text": [
      "['id', 'track_name', 'size_bytes', 'currency', 'price', 'rating_count_tot', 'rating_count_ver', 'user_rating', 'user_rating_ver', 'ver', 'cont_rating', 'prime_genre', 'sup_devices.num', 'ipadSc_urls.num', 'lang.num', 'vpp_lic']\n",
      "\n",
      "\n",
      "['284882215', 'Facebook', '389879808', 'USD', '0.0', '2974676', '212', '3.5', '3.5', '95.0', '4+', 'Social Networking', '37', '1', '29', '1']\n",
      "\n",
      "\n",
      "['389801252', 'Instagram', '113954816', 'USD', '0.0', '2161558', '1289', '4.5', '4.0', '10.23', '12+', 'Photo & Video', '37', '0', '29', '1']\n",
      "\n",
      "\n",
      "Number of rows: 7197\n",
      "Number of columns: 16\n"
     ]
    }
   ],
   "source": [
    "print(apple_header)\n",
    "print(\"\\n\")\n",
    "explore_data(apple, 0 , 2, True)"
   ]
  },
  {
   "cell_type": "markdown",
   "metadata": {},
   "source": [
    "The dataset has alot of duplicate values, to clear up the confusion we will have to search through the list of lists for the header variable. For example \"Instagram\" app we can search through the list for apps with the name \"Instagram\" we find there are 4 values.\n",
    "To separate it we see that the only variable that can be used to distinguish the four is the reviews column. Thus we just have to pick the one with the highest reviews."
   ]
  },
  {
   "cell_type": "code",
   "execution_count": 5,
   "metadata": {
    "collapsed": false,
    "scrolled": true
   },
   "outputs": [
    {
     "name": "stdout",
     "output_type": "stream",
     "text": [
      "['App', 'Category', 'Rating', 'Reviews', 'Size', 'Installs', 'Type', 'Price', 'Content Rating', 'Genres', 'Last Updated', 'Current Ver', 'Android Ver']\n",
      "\n",
      "\n",
      "Lenght of header:  13\n",
      "\n",
      "\n",
      "['Facebook', 'SOCIAL', '4.1', '78158306', 'Varies with device', '1,000,000,000+', 'Free', '0', 'Teen', 'Social', 'August 3, 2018', 'Varies with device', 'Varies with device']\n",
      "['Facebook', 'SOCIAL', '4.1', '78128208', 'Varies with device', '1,000,000,000+', 'Free', '0', 'Teen', 'Social', 'August 3, 2018', 'Varies with device', 'Varies with device']\n"
     ]
    }
   ],
   "source": [
    "def display_data(dataset):\n",
    "    total_instagram = 0\n",
    "    for app in dataset:\n",
    "        name = app[0]\n",
    "        if name == \"Facebook\":\n",
    "            total_instagram += 1\n",
    "            print(app)\n",
    "            \n",
    "print(android_header)\n",
    "print(\"\\n\")\n",
    "print(\"Lenght of header: \", len(android_header))\n",
    "print(\"\\n\")\n",
    "display_data(dataset= android)"
   ]
  },
  {
   "cell_type": "code",
   "execution_count": 6,
   "metadata": {
    "collapsed": false,
    "scrolled": true
   },
   "outputs": [
    {
     "name": "stdout",
     "output_type": "stream",
     "text": [
      "Number of duplicate apps: 1181\n",
      "\n",
      "\n",
      "Number of unique apps:  9660\n",
      "\n",
      "\n",
      "Examples of duplicate apps: ['Quick PDF Scanner + OCR FREE', 'Box', 'Google My Business', 'ZOOM Cloud Meetings', 'join.me - Simple Meetings', 'Box', 'Zenefits', 'Google Ads', 'Google My Business', 'Slack', 'FreshBooks Classic', 'Insightly CRM', 'QuickBooks Accounting: Invoicing & Expenses', 'HipChat - Chat Built for Teams', 'Xero Accounting Software']\n"
     ]
    }
   ],
   "source": [
    "def duplicate_data(android):\n",
    "    duplicate_apps = []\n",
    "    unique_apps = []\n",
    "\n",
    "    for app in android:\n",
    "        name = app[0]\n",
    "        if name in unique_apps:\n",
    "            duplicate_apps.append(name)\n",
    "        else:\n",
    "            unique_apps.append(name)\n",
    "    print('Number of duplicate apps:', len(duplicate_apps))\n",
    "    print('\\n')\n",
    "    print(\"Number of unique apps: \", len(unique_apps))\n",
    "    print('\\n')\n",
    "    print('Examples of duplicate apps:', duplicate_apps[:15])\n",
    "\n",
    "duplicate_data(android)"
   ]
  },
  {
   "cell_type": "code",
   "execution_count": 7,
   "metadata": {
    "collapsed": false
   },
   "outputs": [
    {
     "name": "stdout",
     "output_type": "stream",
     "text": [
      "Expected length: 9660\n",
      "Actual length: 9660\n",
      "The name is:  ['LIFESTYLE', '4.5', '398307', '19M', '10,000,000+', 'Free', '0', 'Everyone', 'Lifestyle', 'July 25, 2018', 'Varies with device', 'Varies with device']\n",
      "398307\n",
      "iHoroscope - 2018 Daily Horoscope & Astrology\n"
     ]
    }
   ],
   "source": [
    "def review_data(android):\n",
    "    reviews_max = {}\n",
    "    for app in android:\n",
    "        name = app[0]\n",
    "        n_reviews = app[3]\n",
    "        \n",
    "        if name in reviews_max and reviews_max[name] < n_reviews:\n",
    "            reviews_max[name] = n_reviews\n",
    "            \n",
    "        elif name not in reviews_max:\n",
    "            reviews_max[name] = n_reviews\n",
    "            \n",
    "    print('Expected length:', len(android) - 1181)\n",
    "    print('Actual length:', len(reviews_max))\n",
    "    print(\"The name is: \", app[1:])\n",
    "    print(reviews_max[\"iHoroscope - 2018 Daily Horoscope & Astrology\"])\n",
    "    print(name)\n",
    "    \n",
    "            \n",
    "            \n",
    "review_data(android)"
   ]
  },
  {
   "cell_type": "code",
   "execution_count": 8,
   "metadata": {
    "collapsed": false
   },
   "outputs": [
    {
     "data": {
      "text/plain": [
       "True"
      ]
     },
     "execution_count": 8,
     "metadata": {},
     "output_type": "execute_result"
    }
   ],
   "source": [
    "def english_characters(android):\n",
    "    for string_data in android[0]:\n",
    "        for value1 in string_data:\n",
    "            if ord(value1) > 127:\n",
    "                return False\n",
    "                #print(string_data)\n",
    "        else:\n",
    "            return True\n",
    "    print(string_data)\n",
    "english_characters(android)"
   ]
  },
  {
   "cell_type": "code",
   "execution_count": 9,
   "metadata": {
    "collapsed": false
   },
   "outputs": [
    {
     "name": "stdout",
     "output_type": "stream",
     "text": [
      "True\n",
      "True\n"
     ]
    }
   ],
   "source": [
    "def is_english(string):\n",
    "    non_ascii = 0\n",
    "    \n",
    "    for character in string:\n",
    "        if ord(character) > 127:\n",
    "            non_ascii += 1\n",
    "    \n",
    "    if non_ascii > 3:\n",
    "        return False\n",
    "    else:\n",
    "        return True\n",
    "\n",
    "print(is_english('Docs To Go™ Free Office Suite'))\n",
    "print(is_english('Instachat 😜'))"
   ]
  },
  {
   "cell_type": "code",
   "execution_count": 10,
   "metadata": {
    "collapsed": false
   },
   "outputs": [
    {
     "name": "stdout",
     "output_type": "stream",
     "text": [
      "10040\n",
      "4056\n"
     ]
    }
   ],
   "source": [
    "def app_pricing(dataset1, dataset2):\n",
    "    android_final = []\n",
    "    ios_final = []\n",
    "    \n",
    "    for app in dataset1:\n",
    "        price = app[7]\n",
    "        if price == '0':\n",
    "            android_final.append(app)\n",
    "    \n",
    "    for app in dataset2:\n",
    "        price = app[4]\n",
    "        if price == '0.0':\n",
    "            ios_final.append(app)\n",
    "            \n",
    "    print(len(android_final))\n",
    "    print(len(ios_final))\n",
    "            \n",
    "        \n",
    "app_pricing(android, apple)\n",
    "\n",
    "\n",
    "\n",
    "            \n",
    "        "
   ]
  },
  {
   "cell_type": "code",
   "execution_count": 11,
   "metadata": {
    "collapsed": false,
    "scrolled": false
   },
   "outputs": [
    {
     "name": "stdout",
     "output_type": "stream",
     "text": [
      "['id', 'track_name', 'size_bytes', 'currency', 'price', 'rating_count_tot', 'rating_count_ver', 'user_rating', 'user_rating_ver', 'ver', 'cont_rating', 'prime_genre', 'sup_devices.num', 'ipadSc_urls.num', 'lang.num', 'vpp_lic']\n",
      "\n",
      "\n",
      "['429047995', 'Pinterest', '74778624', 'USD', '0.0', '1061624', '1814', '4.5', '4.0', '6.26', '12+', 'Social Networking', '37', '5', '27', '1']\n"
     ]
    }
   ],
   "source": [
    "print(apple_header)\n",
    "print('\\n')\n",
    "print(apple[5])"
   ]
  },
  {
   "cell_type": "code",
   "execution_count": 12,
   "metadata": {
    "collapsed": false
   },
   "outputs": [
    {
     "name": "stdout",
     "output_type": "stream",
     "text": [
      "['App', 'Category', 'Rating', 'Reviews', 'Size', 'Installs', 'Type', 'Price', 'Content Rating', 'Genres', 'Last Updated', 'Current Ver', 'Android Ver']\n",
      "\n",
      "\n",
      "['Paper flowers instructions', 'ART_AND_DESIGN', '4.4', '167', '5.6M', '50,000+', 'Free', '0', 'Everyone', 'Art & Design', 'March 26, 2017', '1.0', '2.3 and up']\n"
     ]
    }
   ],
   "source": [
    "print(android_header)\n",
    "print('\\n')\n",
    "print(android[5])"
   ]
  },
  {
   "cell_type": "markdown",
   "metadata": {
    "collapsed": true
   },
   "source": [
    "We will be building a frequency table for both apps, on the basis of the genres section of both datasets."
   ]
  },
  {
   "cell_type": "code",
   "execution_count": 13,
   "metadata": {
    "collapsed": false,
    "scrolled": true
   },
   "outputs": [
    {
     "name": "stdout",
     "output_type": "stream",
     "text": [
      "Apple prime genre\n",
      "\n",
      "\n",
      "Games : 53.66124774211477\n",
      "Entertainment : 7.433652910935113\n",
      "Education : 6.294289287203002\n",
      "Photo & Video : 4.849242740030569\n",
      "Utilities : 3.4458802278727245\n",
      "Health & Fitness : 2.501042100875365\n",
      "Productivity : 2.473252744198972\n",
      "Social Networking : 2.3204112824788106\n",
      "Lifestyle : 2.0008336807002918\n",
      "Music : 1.9174656106711132\n",
      "Shopping : 1.6951507572599693\n",
      "Sports : 1.5839933305543976\n",
      "Book : 1.5562039738780047\n",
      "Finance : 1.445046547172433\n",
      "Travel : 1.1254689453939142\n",
      "News : 1.0421008753647354\n",
      "Weather : 1.0004168403501459\n",
      "Reference : 0.8892594136445742\n",
      "Food & Drink : 0.8753647353063776\n",
      "Business : 0.7919966652771988\n",
      "Navigation : 0.6391552035570377\n",
      "Medical : 0.31957760177851885\n",
      "Catalogs : 0.1389467833819647\n"
     ]
    }
   ],
   "source": [
    "#This function will generate frequency tables that show percentages.\n",
    "def freq_table(dataset, index):\n",
    "    table = {}#empty dictionary to store name of app and its associated value\n",
    "    total = 0\n",
    "    \n",
    "    for row in dataset:\n",
    "        total += 1\n",
    "        value = row[index]\n",
    "        if value in table:\n",
    "            table[value] += 1 #If the genre exists in table dict, add 1 to its value\n",
    "        else:\n",
    "            table[value] = 1#else if it doesn't exist, initialize the key name(genre)\n",
    "    \n",
    "    table_percentages = {}#dictionary to store percentages\n",
    "    for key in table:\n",
    "        percentage = (table[key] / total) * 100\n",
    "        table_percentages[key] = percentage \n",
    "        \n",
    "    \n",
    "    return table_percentages\n",
    "\n",
    "freq_table(apple, -5)\n",
    "\n",
    "def display_table(dataset, index):\n",
    "    table = freq_table(dataset, index)#function call that takes table_percentages value as argument\n",
    "    table_display = []\n",
    "    for key in table:\n",
    "        key_val_as_tuple = (table[key], key)\n",
    "        table_display.append(key_val_as_tuple)\n",
    "        \n",
    "    table_sorted = sorted(table_display, reverse = True)\n",
    "    for entry in table_sorted:\n",
    "        print(entry[1], ':', entry[0])\n",
    "print(\"Apple prime genre\")\n",
    "print(\"\\n\")\n",
    "display_table(apple, -5)#prime genre\n"
   ]
  },
  {
   "cell_type": "code",
   "execution_count": 14,
   "metadata": {
    "collapsed": false
   },
   "outputs": [
    {
     "name": "stdout",
     "output_type": "stream",
     "text": [
      "Android category\n",
      "\n",
      "\n",
      "FAMILY : 18.190203855732868\n",
      "GAME : 10.55253205423854\n",
      "TOOLS : 7.7760354210866165\n",
      "MEDICAL : 4.27082372474864\n",
      "BUSINESS : 4.243151000830181\n",
      "PRODUCTIVITY : 3.911078313808689\n",
      "PERSONALIZATION : 3.615902592011807\n",
      "COMMUNICATION : 3.569781385481044\n",
      "SPORTS : 3.5421086615625867\n",
      "LIFESTYLE : 3.5236601789502817\n",
      "FINANCE : 3.3760723180518406\n",
      "HEALTH_AND_FITNESS : 3.1454662853980264\n",
      "PHOTOGRAPHY : 3.090120837561111\n",
      "SOCIAL : 2.721151185315008\n",
      "NEWS_AND_MAGAZINES : 2.610460289641177\n",
      "SHOPPING : 2.398302739599668\n",
      "TRAVEL_AND_LOCAL : 2.379854256987363\n",
      "DATING : 2.158472465639701\n",
      "BOOKS_AND_REFERENCE : 2.130799741721243\n",
      "VIDEO_PLAYERS : 1.6142422285766997\n",
      "EDUCATION : 1.4389816437598009\n",
      "ENTERTAINMENT : 1.3744119546167328\n",
      "MAPS_AND_NAVIGATION : 1.263721058942902\n",
      "FOOD_AND_DRINK : 1.1714786458813762\n",
      "HOUSE_AND_HOME : 0.8117332349414261\n",
      "LIBRARIES_AND_DEMO : 0.7840605110229684\n",
      "AUTO_AND_VEHICLES : 0.7840605110229684\n",
      "WEATHER : 0.7563877871045107\n",
      "ART_AND_DESIGN : 0.599575684899917\n",
      "EVENTS : 0.5903514435937643\n",
      "PARENTING : 0.5534544783691541\n",
      "COMICS : 0.5534544783691541\n",
      "BEAUTY : 0.48888478922608614\n",
      "1.9 : 0.009224241306152568\n"
     ]
    }
   ],
   "source": [
    "print(\"Android category\")\n",
    "print(\"\\n\")\n",
    "display_table(android, 1)# Category\n"
   ]
  },
  {
   "cell_type": "code",
   "execution_count": 15,
   "metadata": {
    "collapsed": false,
    "scrolled": false
   },
   "outputs": [
    {
     "name": "stdout",
     "output_type": "stream",
     "text": [
      "Android genre\n",
      "\n",
      "\n",
      "Tools : 7.766811179780462\n",
      "Entertainment : 5.74670233373305\n",
      "Education : 5.0641084770777605\n",
      "Medical : 4.27082372474864\n",
      "Business : 4.243151000830181\n",
      "Productivity : 3.911078313808689\n",
      "Sports : 3.671248039848722\n",
      "Personalization : 3.615902592011807\n",
      "Communication : 3.569781385481044\n",
      "Lifestyle : 3.5144359376441288\n",
      "Finance : 3.3760723180518406\n",
      "Action : 3.3668480767456876\n",
      "Health & Fitness : 3.1454662853980264\n",
      "Photography : 3.090120837561111\n",
      "Social : 2.721151185315008\n",
      "News & Magazines : 2.610460289641177\n",
      "Shopping : 2.398302739599668\n",
      "Travel & Local : 2.37063001568121\n",
      "Dating : 2.158472465639701\n",
      "Books & Reference : 2.130799741721243\n",
      "Arcade : 2.029333087353565\n",
      "Simulation : 1.844848261230514\n",
      "Casual : 1.7802785720874459\n",
      "Video Players & Editors : 1.5957937459643943\n",
      "Puzzle : 1.2913937828613598\n",
      "Maps & Navigation : 1.263721058942902\n",
      "Food & Drink : 1.1714786458813762\n",
      "Role Playing : 1.00544230237063\n",
      "Strategy : 0.9869938197583248\n",
      "Racing : 0.9039756480029517\n",
      "House & Home : 0.8117332349414261\n",
      "Libraries & Demo : 0.7840605110229684\n",
      "Auto & Vehicles : 0.7840605110229684\n",
      "Weather : 0.7563877871045107\n",
      "Adventure : 0.6918180979614427\n",
      "Events : 0.5903514435937643\n",
      "Comics : 0.5442302370630016\n",
      "Art & Design : 0.5350059957568489\n",
      "Beauty : 0.48888478922608614\n",
      "Education;Education : 0.4612120653076285\n",
      "Card : 0.44276358269532334\n",
      "Parenting : 0.4243151000830182\n",
      "Board : 0.40586661747071306\n",
      "Educational;Education : 0.37819389355225536\n",
      "Casino : 0.3597454109399502\n",
      "Trivia : 0.35052116963379765\n",
      "Educational : 0.3412969283276451\n",
      "Casual;Pretend Play : 0.2859514804907296\n",
      "Word : 0.26750299787842446\n",
      "Entertainment;Music & Video : 0.24905451526611935\n",
      "Education;Pretend Play : 0.2121575500415091\n",
      "Music : 0.20293330873535653\n",
      "Casual;Action & Adventure : 0.19370906742920396\n",
      "Racing;Action & Adventure : 0.1844848261230514\n",
      "Puzzle;Brain Games : 0.17526058481689882\n",
      "Educational;Pretend Play : 0.17526058481689882\n",
      "Action;Action & Adventure : 0.15681210220459368\n",
      "Arcade;Action & Adventure : 0.1475878608984411\n",
      "Board;Brain Games : 0.13836361959228852\n",
      "Casual;Brain Games : 0.1199151369799834\n",
      "Adventure;Action & Adventure : 0.1199151369799834\n",
      "Simulation;Action & Adventure : 0.10146665436767827\n",
      "Entertainment;Brain Games : 0.07379393044922054\n",
      "Role Playing;Action & Adventure : 0.06456968914306797\n",
      "Parenting;Education : 0.06456968914306797\n",
      "Education;Creativity : 0.06456968914306797\n",
      "Casual;Creativity : 0.06456968914306797\n",
      "Art & Design;Creativity : 0.06456968914306797\n",
      "Parenting;Music & Video : 0.05534544783691542\n",
      "Educational;Brain Games : 0.05534544783691542\n",
      "Education;Action & Adventure : 0.05534544783691542\n",
      "Role Playing;Pretend Play : 0.04612120653076285\n",
      "Puzzle;Action & Adventure : 0.04612120653076285\n",
      "Educational;Creativity : 0.04612120653076285\n",
      "Education;Music & Video : 0.04612120653076285\n",
      "Education;Brain Games : 0.04612120653076285\n",
      "Sports;Action & Adventure : 0.03689696522461027\n",
      "Simulation;Pretend Play : 0.03689696522461027\n",
      "Educational;Action & Adventure : 0.03689696522461027\n",
      "Video Players & Editors;Music & Video : 0.02767272391845771\n",
      "Simulation;Education : 0.02767272391845771\n",
      "Music;Music & Video : 0.02767272391845771\n",
      "Entertainment;Creativity : 0.02767272391845771\n",
      "Entertainment;Action & Adventure : 0.02767272391845771\n",
      "Casual;Education : 0.02767272391845771\n",
      "Board;Action & Adventure : 0.02767272391845771\n",
      "Video Players & Editors;Creativity : 0.018448482612305136\n",
      "Strategy;Action & Adventure : 0.018448482612305136\n",
      "Puzzle;Creativity : 0.018448482612305136\n",
      "Entertainment;Pretend Play : 0.018448482612305136\n",
      "Casual;Music & Video : 0.018448482612305136\n",
      "Card;Action & Adventure : 0.018448482612305136\n",
      "Books & Reference;Education : 0.018448482612305136\n",
      "Art & Design;Pretend Play : 0.018448482612305136\n",
      "Art & Design;Action & Adventure : 0.018448482612305136\n",
      "Adventure;Education : 0.018448482612305136\n",
      "Trivia;Education : 0.009224241306152568\n",
      "Travel & Local;Action & Adventure : 0.009224241306152568\n",
      "Tools;Education : 0.009224241306152568\n",
      "Strategy;Education : 0.009224241306152568\n",
      "Strategy;Creativity : 0.009224241306152568\n",
      "Role Playing;Education : 0.009224241306152568\n",
      "Role Playing;Brain Games : 0.009224241306152568\n",
      "Racing;Pretend Play : 0.009224241306152568\n",
      "Puzzle;Education : 0.009224241306152568\n",
      "Parenting;Brain Games : 0.009224241306152568\n",
      "Music & Audio;Music & Video : 0.009224241306152568\n",
      "Lifestyle;Pretend Play : 0.009224241306152568\n",
      "Lifestyle;Education : 0.009224241306152568\n",
      "Health & Fitness;Education : 0.009224241306152568\n",
      "Health & Fitness;Action & Adventure : 0.009224241306152568\n",
      "Entertainment;Education : 0.009224241306152568\n",
      "Communication;Creativity : 0.009224241306152568\n",
      "Comics;Creativity : 0.009224241306152568\n",
      "Card;Brain Games : 0.009224241306152568\n",
      "Books & Reference;Creativity : 0.009224241306152568\n",
      "Board;Pretend Play : 0.009224241306152568\n",
      "Arcade;Pretend Play : 0.009224241306152568\n",
      "Adventure;Brain Games : 0.009224241306152568\n",
      " : 0.009224241306152568\n"
     ]
    }
   ],
   "source": [
    "print(\"Android genre\")\n",
    "print(\"\\n\")\n",
    "display_table(android, -4)"
   ]
  },
  {
   "cell_type": "markdown",
   "metadata": {
    "collapsed": true
   },
   "source": [
    "Calculation of most popular genres based on both platforms based \n",
    "on number of installs for android and rating_count_tot for apple \n",
    "ios apps.\n",
    "We start by:\n",
    "    -Isolate the apps of each genre.\n",
    "    -Sum up the user ratings for the apps of that genre.\n",
    "    -Divide the sum by the number of apps belonging to that genre\n",
    "     (not by the total number of apps).\n",
    "\n",
    "In the AppleStore Dataset the most common app is Games followed by\n",
    "Entertainment and Education.\n",
    "For the applestore most apps are designed for gaming and entertaniment.\n",
    "The googleplay dataset is more balanced with the family category being \n",
    "at the top followed by games.\n",
    "I would recomend game profile to be profitable for both apple and google\n",
    "playstore.\n",
    "    "
   ]
  },
  {
   "cell_type": "code",
   "execution_count": null,
   "metadata": {
    "collapsed": true
   },
   "outputs": [],
   "source": []
  }
 ],
 "metadata": {
  "kernelspec": {
   "display_name": "Python 3",
   "language": "python",
   "name": "python3"
  },
  "language_info": {
   "codemirror_mode": {
    "name": "ipython",
    "version": 3
   },
   "file_extension": ".py",
   "mimetype": "text/x-python",
   "name": "python",
   "nbconvert_exporter": "python",
   "pygments_lexer": "ipython3",
   "version": "3.4.3"
  }
 },
 "nbformat": 4,
 "nbformat_minor": 2
}
